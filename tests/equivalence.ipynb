{
 "cells": [
  {
   "cell_type": "code",
   "execution_count": 13,
   "metadata": {},
   "outputs": [],
   "source": [
    "class Student:\n",
    "    #--------------------------------------------------#\n",
    "    class Phone:\n",
    "        def __init__(self, number) -> None:\n",
    "            self._number = number\n",
    "    #--------------------------------------------------#\n",
    "    def __init__(self, name, number) -> None:\n",
    "        self._name = name\n",
    "        self._phone = self.Phone(number)"
   ]
  },
  {
   "cell_type": "code",
   "execution_count": 14,
   "metadata": {},
   "outputs": [
    {
     "name": "stdout",
     "output_type": "stream",
     "text": [
      "False\n"
     ]
    }
   ],
   "source": [
    "student_one = Student('Oscar', 1)\n",
    "student_two = Student('Oscar', 1)\n",
    "\n",
    "print(student_one == student_two) #even they have the same values they are not equivalent"
   ]
  },
  {
   "attachments": {},
   "cell_type": "markdown",
   "metadata": {},
   "source": [
    "## `Equivalence test with Python lists`"
   ]
  },
  {
   "cell_type": "code",
   "execution_count": 15,
   "metadata": {},
   "outputs": [
    {
     "name": "stdout",
     "output_type": "stream",
     "text": [
      "True\n",
      "False\n"
     ]
    }
   ],
   "source": [
    "list_one = [1,2,3]\n",
    "list_two = [1,2,3]\n",
    "\n",
    "print(list_one == list_two) # returns true because the equal operator test for equivalence\n",
    "print(list_one is list_two) # should return false because it checks for identity"
   ]
  },
  {
   "attachments": {},
   "cell_type": "markdown",
   "metadata": {},
   "source": [
    "## `Equivalence test with Linked lists`"
   ]
  },
  {
   "cell_type": "code",
   "execution_count": 16,
   "metadata": {},
   "outputs": [],
   "source": [
    "import sys\n",
    "# setting path\n",
    "sys.path.append('../../PythonClasses/')\n",
    "\n",
    "from singly_linked_list import SinglyLinkedList"
   ]
  },
  {
   "attachments": {},
   "cell_type": "markdown",
   "metadata": {},
   "source": [
    "## `Shallow copy`"
   ]
  },
  {
   "cell_type": "code",
   "execution_count": 17,
   "metadata": {},
   "outputs": [
    {
     "name": "stdout",
     "output_type": "stream",
     "text": [
      "<__main__.Student object at 0x00000195388A8E20> <__main__.Student object at 0x00000195388AB0D0>\n",
      "<__main__.Student.Phone object at 0x00000195388A9480> <__main__.Student.Phone object at 0x00000195388A9480>\n"
     ]
    }
   ],
   "source": [
    "import copy\n",
    "student_three = copy.copy(student_one) # it provides to different refences but with the internal attributes pointing to the same address\n",
    "\n",
    "print(student_one, student_three) \n",
    "print(student_one._phone, student_three._phone)"
   ]
  },
  {
   "attachments": {},
   "cell_type": "markdown",
   "metadata": {},
   "source": [
    "## `Deep copy`"
   ]
  },
  {
   "cell_type": "code",
   "execution_count": 18,
   "metadata": {},
   "outputs": [
    {
     "name": "stdout",
     "output_type": "stream",
     "text": [
      "<__main__.Student object at 0x00000195388A8E20> <__main__.Student object at 0x00000195388AB670>\n",
      "<__main__.Student.Phone object at 0x00000195388A9480> <__main__.Student.Phone object at 0x00000195388A82E0>\n"
     ]
    }
   ],
   "source": [
    "student_three = copy.deepcopy(student_one) # it provides to different object refences with the internal attributes pointing to new objects\n",
    "\n",
    "print(student_one, student_three) \n",
    "print(student_one._phone, student_three._phone)"
   ]
  },
  {
   "attachments": {},
   "cell_type": "markdown",
   "metadata": {},
   "source": [
    "## `Deep Copy circular linked list`"
   ]
  },
  {
   "cell_type": "code",
   "execution_count": 19,
   "metadata": {},
   "outputs": [
    {
     "name": "stdout",
     "output_type": "stream",
     "text": [
      "Original: 0->1->2->3\n",
      "Shallow copy: 0->1->2->3\n",
      "Deep copy: 0->1->2->3\n"
     ]
    }
   ],
   "source": [
    "from circular_linked_list import CircularLinkedList\n",
    "\n",
    "cll = CircularLinkedList()\n",
    "\n",
    "for i in range(4):\n",
    "    cll.add_last(i)\n",
    "\n",
    "cll_copy = copy.copy(cll)\n",
    "cll_deep_copy = copy.deepcopy(cll)\n",
    "\n",
    "print(f\"Original: {cll}\")\n",
    "print(f\"Shallow copy: {cll_copy}\")\n",
    "print(f\"Deep copy: {cll_deep_copy}\")"
   ]
  },
  {
   "cell_type": "code",
   "execution_count": 20,
   "metadata": {},
   "outputs": [
    {
     "name": "stdout",
     "output_type": "stream",
     "text": [
      "Original: 0->1->2->7\n",
      "Shallow copy: 0->1->2->7\n",
      "Deep copy: 0->1->2->3\n"
     ]
    }
   ],
   "source": [
    "# modifying element in the original list\n",
    "cll._tail._element = 7\n",
    "\n",
    "print(f\"Original: {cll}\")\n",
    "print(f\"Shallow copy: {cll_copy}\")\n",
    "print(f\"Deep copy: {cll_deep_copy}\")"
   ]
  },
  {
   "cell_type": "code",
   "execution_count": 21,
   "metadata": {},
   "outputs": [
    {
     "name": "stdout",
     "output_type": "stream",
     "text": [
      "Original: 0->1->2->7->8->9\n",
      "Shallow copy: 8->9->0->1->2->7\n",
      "Deep copy: 0->1->2->3\n"
     ]
    }
   ],
   "source": [
    "# adding element in the original list\n",
    "cll.add_last(8)\n",
    "cll.add_last(9)\n",
    "\n",
    "print(f\"Original: {cll}\")\n",
    "print(f\"Shallow copy: {cll_copy}\")\n",
    "print(f\"Deep copy: {cll_deep_copy}\")"
   ]
  }
 ],
 "metadata": {
  "kernelspec": {
   "display_name": "Python 3",
   "language": "python",
   "name": "python3"
  },
  "language_info": {
   "codemirror_mode": {
    "name": "ipython",
    "version": 3
   },
   "file_extension": ".py",
   "mimetype": "text/x-python",
   "name": "python",
   "nbconvert_exporter": "python",
   "pygments_lexer": "ipython3",
   "version": "3.10.7"
  },
  "orig_nbformat": 4,
  "vscode": {
   "interpreter": {
    "hash": "369f2c481f4da34e4445cda3fffd2e751bd1c4d706f27375911949ba6bb62e1c"
   }
  }
 },
 "nbformat": 4,
 "nbformat_minor": 2
}
